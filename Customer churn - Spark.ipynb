{
 "cells": [
  {
   "cell_type": "markdown",
   "id": "7ea326ae",
   "metadata": {},
   "source": [
    "# <center>Customer churn - a predictive model using Apache Spark framework<center>"
   ]
  },
  {
   "cell_type": "markdown",
   "id": "be4fd011",
   "metadata": {},
   "source": [
    "### <div style=\"text-align: right\">*M.S. student Darius Alexandru Cocirta*</div>"
   ]
  },
  {
   "cell_type": "markdown",
   "id": "dfc28f9e",
   "metadata": {},
   "source": [
    "![alternatvie text](https://d1eipm3vz40hy0.cloudfront.net/images/AMER/calculate-customer-churn.jpg)"
   ]
  },
  {
   "cell_type": "markdown",
   "id": "4006b5c5",
   "metadata": {},
   "source": [
    "## Context"
   ]
  },
  {
   "cell_type": "markdown",
   "id": "46dd607c",
   "metadata": {},
   "source": [
    "With the rapid development of telecommunication industry, the service providers are inclined more towards expansion of the subscriber base. To meet the need of surviving in the competitive environment, the retention of existing customers has become a huge challenge. It is stated that the cost of acquiring a new customer is far more than that for retaining the existing one. Therefore, it is imperative for the telecom industries to use advanced analytics to understand consumer behavior and in-turn predict the association of the customers as whether or not they will leave the company."
   ]
  },
  {
   "cell_type": "markdown",
   "id": "72a66b08",
   "metadata": {},
   "source": [
    "## What is customer churn?"
   ]
  },
  {
   "cell_type": "markdown",
   "id": "31aafbd0",
   "metadata": {},
   "source": [
    "Simply put, customer churn occurs when **customers or subscribers stop doing business with a company or service**. Also known as customer attrition, customer churn is a critical metric because it is much less expensive to retain existing customers than it is to acquire new customers – earning business from new customers means working leads all the way through the sales funnel, utilizing your marketing and sales resources throughout the process. Customer retention, on the other hand, is generally more cost-effective as you’ve already earned the trust and loyalty of existing customers."
   ]
  },
  {
   "cell_type": "markdown",
   "id": "914c3b85",
   "metadata": {},
   "source": [
    "## Assignment"
   ]
  },
  {
   "cell_type": "markdown",
   "id": "5abd22ba",
   "metadata": {},
   "source": [
    "* Creating a model to predict customer churn"
   ]
  },
  {
   "cell_type": "markdown",
   "id": "8372f1d9",
   "metadata": {},
   "source": [
    "## About data"
   ]
  },
  {
   "cell_type": "markdown",
   "id": "92c77ea1",
   "metadata": {},
   "source": [
    "Dataset source: https://www.kaggle.com/datasets/barun2104/telecom-churn"
   ]
  },
  {
   "cell_type": "markdown",
   "id": "74c50ff7",
   "metadata": {},
   "source": [
    "This data set contains customer level information for a telecom company. Various attributes related to the services used are recorded for each customer."
   ]
  },
  {
   "cell_type": "markdown",
   "id": "afa3f231",
   "metadata": {},
   "source": [
    "# <center>Algorithm implementation<center>"
   ]
  },
  {
   "cell_type": "markdown",
   "id": "c8237857",
   "metadata": {},
   "source": [
    "## Importing needed libraries"
   ]
  },
  {
   "cell_type": "code",
   "execution_count": 28,
   "id": "3079e96b",
   "metadata": {},
   "outputs": [
    {
     "data": {
      "text/html": [
       "<style>pre { white-space: pre !important; }</style>"
      ],
      "text/plain": [
       "<IPython.core.display.HTML object>"
      ]
     },
     "metadata": {},
     "output_type": "display_data"
    }
   ],
   "source": [
    "import findspark\n",
    "findspark.init()\n",
    "from IPython.core.display import HTML\n",
    "display(HTML(\"<style>pre { white-space: pre !important; }</style>\"))\n",
    "from pyspark.sql import SparkSession\n",
    "from pyspark.ml.feature import VectorAssembler\n",
    "from pyspark.ml.classification import LogisticRegression\n",
    "from pyspark.ml.evaluation import BinaryClassificationEvaluator\n",
    "import pandas as pd\n",
    "import matplotlib.pyplot as plt\n",
    "import seaborn as sns"
   ]
  },
  {
   "cell_type": "markdown",
   "id": "e4015a54",
   "metadata": {},
   "source": [
    "## Creating SparkContext"
   ]
  },
  {
   "cell_type": "code",
   "execution_count": 3,
   "id": "99e96f88",
   "metadata": {},
   "outputs": [],
   "source": [
    "spark = SparkSession.builder.master(\"local\").appName(\"Customer churn prediction\").getOrCreate()\n",
    "sc = spark.sparkContext"
   ]
  },
  {
   "cell_type": "code",
   "execution_count": 4,
   "id": "e47291cd",
   "metadata": {},
   "outputs": [
    {
     "data": {
      "text/html": [
       "\n",
       "        <div>\n",
       "            <p><b>SparkContext</b></p>\n",
       "\n",
       "            <p><a href=\"http://DESKTOP-2MQVQBV:4040\">Spark UI</a></p>\n",
       "\n",
       "            <dl>\n",
       "              <dt>Version</dt>\n",
       "                <dd><code>v3.3.1</code></dd>\n",
       "              <dt>Master</dt>\n",
       "                <dd><code>local</code></dd>\n",
       "              <dt>AppName</dt>\n",
       "                <dd><code>Customer churn prediction</code></dd>\n",
       "            </dl>\n",
       "        </div>\n",
       "        "
      ],
      "text/plain": [
       "<SparkContext master=local appName=Customer churn prediction>"
      ]
     },
     "execution_count": 4,
     "metadata": {},
     "output_type": "execute_result"
    }
   ],
   "source": [
    "sc"
   ]
  },
  {
   "cell_type": "markdown",
   "id": "b9c4c25f",
   "metadata": {},
   "source": [
    "## Data quality assessment"
   ]
  },
  {
   "cell_type": "markdown",
   "id": "dcfced28",
   "metadata": {},
   "source": [
    "### Importing dataset"
   ]
  },
  {
   "cell_type": "code",
   "execution_count": 5,
   "id": "09702474",
   "metadata": {},
   "outputs": [],
   "source": [
    "df = spark.read.csv(r\"C:\\Users\\Asus\\Desktop\\dis\\p_users_churn_pyspark\\telecom_churn.csv\", inferSchema = True, header = True)"
   ]
  },
  {
   "cell_type": "code",
   "execution_count": 6,
   "id": "3de365ed",
   "metadata": {},
   "outputs": [
    {
     "name": "stdout",
     "output_type": "stream",
     "text": [
      "root\n",
      " |-- Churn: integer (nullable = true)\n",
      " |-- AccountWeeks: integer (nullable = true)\n",
      " |-- ContractRenewal: integer (nullable = true)\n",
      " |-- DataPlan: integer (nullable = true)\n",
      " |-- DataUsage: double (nullable = true)\n",
      " |-- CustServCalls: integer (nullable = true)\n",
      " |-- DayMins: double (nullable = true)\n",
      " |-- DayCalls: integer (nullable = true)\n",
      " |-- MonthlyCharge: double (nullable = true)\n",
      " |-- OverageFee: double (nullable = true)\n",
      " |-- RoamMins: double (nullable = true)\n",
      "\n"
     ]
    }
   ],
   "source": [
    "df.printSchema()"
   ]
  },
  {
   "cell_type": "code",
   "execution_count": 7,
   "id": "a528647c",
   "metadata": {},
   "outputs": [
    {
     "data": {
      "text/plain": [
       "3333"
      ]
     },
     "execution_count": 7,
     "metadata": {},
     "output_type": "execute_result"
    }
   ],
   "source": [
    "df.count()"
   ]
  },
  {
   "cell_type": "code",
   "execution_count": 8,
   "id": "fe711bc8",
   "metadata": {
    "scrolled": false
   },
   "outputs": [
    {
     "name": "stdout",
     "output_type": "stream",
     "text": [
      "+-----+------------+---------------+--------+---------+-------------+-------+--------+-------------+----------+--------+\n",
      "|Churn|AccountWeeks|ContractRenewal|DataPlan|DataUsage|CustServCalls|DayMins|DayCalls|MonthlyCharge|OverageFee|RoamMins|\n",
      "+-----+------------+---------------+--------+---------+-------------+-------+--------+-------------+----------+--------+\n",
      "|    0|         128|              1|       1|      2.7|            1|  265.1|     110|         89.0|      9.87|    10.0|\n",
      "|    0|         107|              1|       1|      3.7|            1|  161.6|     123|         82.0|      9.78|    13.7|\n",
      "|    0|         137|              1|       0|      0.0|            0|  243.4|     114|         52.0|      6.06|    12.2|\n",
      "|    0|          84|              0|       0|      0.0|            2|  299.4|      71|         57.0|       3.1|     6.6|\n",
      "|    0|          75|              0|       0|      0.0|            3|  166.7|     113|         41.0|      7.42|    10.1|\n",
      "|    0|         118|              0|       0|      0.0|            0|  223.4|      98|         57.0|     11.03|     6.3|\n",
      "|    0|         121|              1|       1|     2.03|            3|  218.2|      88|         87.3|     17.43|     7.5|\n",
      "|    0|         147|              0|       0|      0.0|            0|  157.0|      79|         36.0|      5.16|     7.1|\n",
      "|    0|         117|              1|       0|     0.19|            1|  184.5|      97|         63.9|     17.58|     8.7|\n",
      "|    0|         141|              0|       1|     3.02|            0|  258.6|      84|         93.2|      11.1|    11.2|\n",
      "|    1|          65|              1|       0|     0.29|            4|  129.1|     137|         44.9|     11.43|    12.7|\n",
      "|    0|          74|              1|       0|     0.34|            0|  187.7|     127|         49.4|      8.17|     9.1|\n",
      "|    0|         168|              1|       0|      0.0|            1|  128.8|      96|         31.0|      5.25|    11.2|\n",
      "|    0|          95|              1|       0|     0.44|            3|  156.6|      88|         52.4|     12.38|    12.3|\n",
      "|    0|          62|              1|       0|      0.0|            4|  120.7|      70|         47.0|     15.36|    13.1|\n",
      "|    1|         161|              1|       0|      0.0|            4|  332.9|      67|         84.0|     15.89|     5.4|\n",
      "|    0|          85|              1|       1|     3.73|            1|  196.4|     139|         95.3|     14.05|    13.8|\n",
      "|    0|          93|              1|       0|      0.0|            3|  190.7|     114|         51.0|     10.91|     8.1|\n",
      "|    0|          76|              1|       1|      2.7|            1|  189.7|      66|         78.0|     10.64|    10.0|\n",
      "|    0|          73|              1|       0|      0.0|            1|  224.4|      90|         52.0|      7.98|    13.0|\n",
      "+-----+------------+---------------+--------+---------+-------------+-------+--------+-------------+----------+--------+\n",
      "only showing top 20 rows\n",
      "\n"
     ]
    }
   ],
   "source": [
    "df.show()"
   ]
  },
  {
   "cell_type": "code",
   "execution_count": 10,
   "id": "83f39a1a",
   "metadata": {},
   "outputs": [
    {
     "data": {
      "text/plain": [
       "['Churn',\n",
       " 'AccountWeeks',\n",
       " 'ContractRenewal',\n",
       " 'DataPlan',\n",
       " 'DataUsage',\n",
       " 'CustServCalls',\n",
       " 'DayMins',\n",
       " 'DayCalls',\n",
       " 'MonthlyCharge',\n",
       " 'OverageFee',\n",
       " 'RoamMins']"
      ]
     },
     "execution_count": 10,
     "metadata": {},
     "output_type": "execute_result"
    }
   ],
   "source": [
    "df.columns"
   ]
  },
  {
   "cell_type": "code",
   "execution_count": 11,
   "id": "8f2596b0",
   "metadata": {},
   "outputs": [
    {
     "data": {
      "text/plain": [
       "11"
      ]
     },
     "execution_count": 11,
     "metadata": {},
     "output_type": "execute_result"
    }
   ],
   "source": [
    "len(df.columns)"
   ]
  },
  {
   "cell_type": "markdown",
   "id": "b45c1a9d",
   "metadata": {},
   "source": [
    "### Target variable"
   ]
  },
  {
   "cell_type": "code",
   "execution_count": 13,
   "id": "4d8c0759",
   "metadata": {},
   "outputs": [
    {
     "name": "stdout",
     "output_type": "stream",
     "text": [
      "+-----+-----+\n",
      "|churn|count|\n",
      "+-----+-----+\n",
      "|    1|  483|\n",
      "|    0| 2850|\n",
      "+-----+-----+\n",
      "\n"
     ]
    }
   ],
   "source": [
    "df.groupBy(\"churn\").count().show()"
   ]
  },
  {
   "cell_type": "markdown",
   "id": "37c5976b",
   "metadata": {},
   "source": [
    "## Exploratory analysis "
   ]
  },
  {
   "cell_type": "code",
   "execution_count": 15,
   "id": "b0491244",
   "metadata": {},
   "outputs": [
    {
     "name": "stdout",
     "output_type": "stream",
     "text": [
      "+-------+-------------------+------------------+-------------------+-------------------+------------------+------------------+------------------+------------------+-----------------+------------------+------------------+\n",
      "|summary|              Churn|      AccountWeeks|    ContractRenewal|           DataPlan|         DataUsage|     CustServCalls|           DayMins|          DayCalls|    MonthlyCharge|        OverageFee|          RoamMins|\n",
      "+-------+-------------------+------------------+-------------------+-------------------+------------------+------------------+------------------+------------------+-----------------+------------------+------------------+\n",
      "|  count|               3333|              3333|               3333|               3333|              3333|              3333|              3333|              3333|             3333|              3333|              3333|\n",
      "|   mean|0.14491449144914492|101.06480648064806|  0.903090309030903|0.27662766276627665|0.8164746474647478|1.5628562856285628|179.77509750975116|100.43564356435644|56.30516051605168|10.051488148814858|10.237293729372933|\n",
      "| stddev|  0.352067423624126|39.822105928595676|0.29587914548441474| 0.4473978703800645|1.2726680386915497|1.3154910448664752| 54.46738920237146|20.069084207300893|16.42603169297466|2.5357119078448926| 2.791839548408416|\n",
      "|    min|                  0|                 1|                  0|                  0|               0.0|                 0|               0.0|                 0|             14.0|               0.0|               0.0|\n",
      "|    max|                  1|               243|                  1|                  1|               5.4|                 9|             350.8|               165|            111.3|             18.19|              20.0|\n",
      "+-------+-------------------+------------------+-------------------+-------------------+------------------+------------------+------------------+------------------+-----------------+------------------+------------------+\n",
      "\n"
     ]
    }
   ],
   "source": [
    "df.describe().show()"
   ]
  },
  {
   "cell_type": "markdown",
   "id": "4ea0f33c",
   "metadata": {},
   "source": [
    "## Modeling"
   ]
  },
  {
   "cell_type": "markdown",
   "id": "d4df4d7f",
   "metadata": {},
   "source": [
    "### Pre processing"
   ]
  },
  {
   "cell_type": "code",
   "execution_count": 31,
   "id": "204f9fb9",
   "metadata": {},
   "outputs": [],
   "source": [
    "assembler = VectorAssembler(inputCols = ['AccountWeeks',\n",
    " 'ContractRenewal',\n",
    " 'DataPlan',\n",
    " 'DataUsage',\n",
    " 'CustServCalls',\n",
    " 'DayMins',\n",
    " 'DayCalls',\n",
    " 'MonthlyCharge',\n",
    " 'OverageFee',\n",
    " 'RoamMins'], outputCol = \"features\")"
   ]
  },
  {
   "cell_type": "code",
   "execution_count": 32,
   "id": "4df34036",
   "metadata": {},
   "outputs": [],
   "source": [
    "output = assembler.transform(df)"
   ]
  },
  {
   "cell_type": "code",
   "execution_count": 33,
   "id": "537e8f23",
   "metadata": {},
   "outputs": [],
   "source": [
    "dataframe = output.select('features', 'churn')"
   ]
  },
  {
   "cell_type": "code",
   "execution_count": 34,
   "id": "dfbb5d45",
   "metadata": {},
   "outputs": [
    {
     "name": "stdout",
     "output_type": "stream",
     "text": [
      "+---------------------------------------------------+-----+\n",
      "|features                                           |churn|\n",
      "+---------------------------------------------------+-----+\n",
      "|[128.0,1.0,1.0,2.7,1.0,265.1,110.0,89.0,9.87,10.0] |0    |\n",
      "|[107.0,1.0,1.0,3.7,1.0,161.6,123.0,82.0,9.78,13.7] |0    |\n",
      "|[137.0,1.0,0.0,0.0,0.0,243.4,114.0,52.0,6.06,12.2] |0    |\n",
      "|[84.0,0.0,0.0,0.0,2.0,299.4,71.0,57.0,3.1,6.6]     |0    |\n",
      "|[75.0,0.0,0.0,0.0,3.0,166.7,113.0,41.0,7.42,10.1]  |0    |\n",
      "|[118.0,0.0,0.0,0.0,0.0,223.4,98.0,57.0,11.03,6.3]  |0    |\n",
      "|[121.0,1.0,1.0,2.03,3.0,218.2,88.0,87.3,17.43,7.5] |0    |\n",
      "|[147.0,0.0,0.0,0.0,0.0,157.0,79.0,36.0,5.16,7.1]   |0    |\n",
      "|[117.0,1.0,0.0,0.19,1.0,184.5,97.0,63.9,17.58,8.7] |0    |\n",
      "|[141.0,0.0,1.0,3.02,0.0,258.6,84.0,93.2,11.1,11.2] |0    |\n",
      "|[65.0,1.0,0.0,0.29,4.0,129.1,137.0,44.9,11.43,12.7]|1    |\n",
      "|[74.0,1.0,0.0,0.34,0.0,187.7,127.0,49.4,8.17,9.1]  |0    |\n",
      "|[168.0,1.0,0.0,0.0,1.0,128.8,96.0,31.0,5.25,11.2]  |0    |\n",
      "|[95.0,1.0,0.0,0.44,3.0,156.6,88.0,52.4,12.38,12.3] |0    |\n",
      "|[62.0,1.0,0.0,0.0,4.0,120.7,70.0,47.0,15.36,13.1]  |0    |\n",
      "|[161.0,1.0,0.0,0.0,4.0,332.9,67.0,84.0,15.89,5.4]  |1    |\n",
      "|[85.0,1.0,1.0,3.73,1.0,196.4,139.0,95.3,14.05,13.8]|0    |\n",
      "|[93.0,1.0,0.0,0.0,3.0,190.7,114.0,51.0,10.91,8.1]  |0    |\n",
      "|[76.0,1.0,1.0,2.7,1.0,189.7,66.0,78.0,10.64,10.0]  |0    |\n",
      "|[73.0,1.0,0.0,0.0,1.0,224.4,90.0,52.0,7.98,13.0]   |0    |\n",
      "+---------------------------------------------------+-----+\n",
      "only showing top 20 rows\n",
      "\n"
     ]
    }
   ],
   "source": [
    "dataframe.show(truncate = False)"
   ]
  },
  {
   "cell_type": "markdown",
   "id": "1ced3d45",
   "metadata": {},
   "source": [
    "**Train - test split**"
   ]
  },
  {
   "cell_type": "code",
   "execution_count": 423,
   "id": "14b39562",
   "metadata": {},
   "outputs": [],
   "source": [
    "train, test = dataframe.randomSplit([0.7, 0.3], seed = 20)"
   ]
  },
  {
   "cell_type": "code",
   "execution_count": 424,
   "id": "87993c03",
   "metadata": {},
   "outputs": [
    {
     "data": {
      "text/plain": [
       "2340"
      ]
     },
     "execution_count": 424,
     "metadata": {},
     "output_type": "execute_result"
    }
   ],
   "source": [
    "train.count()"
   ]
  },
  {
   "cell_type": "code",
   "execution_count": 425,
   "id": "11c2e94c",
   "metadata": {},
   "outputs": [
    {
     "data": {
      "text/plain": [
       "993"
      ]
     },
     "execution_count": 425,
     "metadata": {},
     "output_type": "execute_result"
    }
   ],
   "source": [
    "test.count()"
   ]
  },
  {
   "cell_type": "markdown",
   "id": "7da580ca",
   "metadata": {},
   "source": [
    "### Fitting logistic regression model"
   ]
  },
  {
   "cell_type": "markdown",
   "id": "20d95bb4",
   "metadata": {},
   "source": [
    "Logistic regression is a statistical analysis method to predict a binary outcome based on prior observations of a data set. A logistic regression model predicts a dependent data variable by analyzing the relationship between one or more existing independent variables."
   ]
  },
  {
   "cell_type": "code",
   "execution_count": 427,
   "id": "4f78cc13",
   "metadata": {},
   "outputs": [],
   "source": [
    "log_reg = LogisticRegression(labelCol = \"churn\").fit(train)"
   ]
  },
  {
   "cell_type": "code",
   "execution_count": 428,
   "id": "7b166df3",
   "metadata": {},
   "outputs": [],
   "source": [
    "log_reg_summary = log_reg.summary"
   ]
  },
  {
   "cell_type": "code",
   "execution_count": 429,
   "id": "d4464082",
   "metadata": {},
   "outputs": [
    {
     "data": {
      "text/plain": [
       "LogisticRegressionModel: uid=LogisticRegression_e80848866ba3, numClasses=2, numFeatures=10"
      ]
     },
     "execution_count": 429,
     "metadata": {},
     "output_type": "execute_result"
    }
   ],
   "source": [
    "log_reg"
   ]
  },
  {
   "cell_type": "code",
   "execution_count": 430,
   "id": "b6cd1e24",
   "metadata": {},
   "outputs": [
    {
     "name": "stdout",
     "output_type": "stream",
     "text": [
      "+--------------------+-----+--------------------+--------------------+----------+\n",
      "|            features|churn|       rawPrediction|         probability|prediction|\n",
      "+--------------------+-----+--------------------+--------------------+----------+\n",
      "|[1.0,1.0,0.0,0.0,...|  0.0|[3.79972763177822...|[0.97811289894901...|       0.0|\n",
      "|[1.0,1.0,0.0,0.0,...|  0.0|[3.11620355648105...|[0.95755619961555...|       0.0|\n",
      "|[1.0,1.0,0.0,0.0,...|  1.0|[0.70894274910876...|[0.67016750393706...|       0.0|\n",
      "|[1.0,1.0,0.0,0.25...|  0.0|[1.79035447197302...|[0.85697073032035...|       0.0|\n",
      "|[1.0,1.0,1.0,2.19...|  0.0|[3.20849682002671...|[0.96115277852310...|       0.0|\n",
      "|[1.0,1.0,1.0,2.27...|  0.0|[3.77664139097788...|[0.97761317372948...|       0.0|\n",
      "|[1.0,1.0,1.0,2.7,...|  0.0|[3.99399507317982...|[0.98190741921345...|       0.0|\n",
      "|[2.0,0.0,0.0,0.27...|  1.0|[1.09368828352853...|[0.74907561298243...|       0.0|\n",
      "|[3.0,0.0,0.0,0.26...|  0.0|[0.52428324621496...|[0.62814878584282...|       0.0|\n",
      "|[3.0,1.0,0.0,0.0,...|  0.0|[0.93067176039883...|[0.71721155123867...|       0.0|\n",
      "|[3.0,1.0,1.0,3.08...|  0.0|[3.60640881039650...|[0.97356842547982...|       0.0|\n",
      "|[3.0,1.0,1.0,3.21...|  0.0|[3.18634033560723...|[0.96031699168158...|       0.0|\n",
      "|[4.0,0.0,0.0,0.0,...|  0.0|[0.77846116303463...|[0.68534836461436...|       0.0|\n",
      "|[5.0,1.0,0.0,0.0,...|  0.0|[0.98277264365061...|[0.72765802288606...|       0.0|\n",
      "|[7.0,1.0,0.0,0.0,...|  0.0|[0.41522240249228...|[0.60233944942198...|       0.0|\n",
      "|[7.0,1.0,1.0,2.92...|  0.0|[3.01459072958213...|[0.95322895156990...|       0.0|\n",
      "|[8.0,1.0,1.0,1.3,...|  0.0|[3.35671675067844...|[0.96632409718469...|       0.0|\n",
      "|[9.0,1.0,1.0,2.73...|  0.0|[3.15270625217330...|[0.95901522334054...|       0.0|\n",
      "|[9.0,1.0,1.0,3.11...|  0.0|[3.89179410472786...|[0.97999948660324...|       0.0|\n",
      "|[9.0,1.0,1.0,3.59...|  0.0|[2.78699560214604...|[0.94196903210578...|       0.0|\n",
      "+--------------------+-----+--------------------+--------------------+----------+\n",
      "only showing top 20 rows\n",
      "\n"
     ]
    }
   ],
   "source": [
    "log_reg_summary.predictions.show()"
   ]
  },
  {
   "cell_type": "code",
   "execution_count": 431,
   "id": "b3ef0616",
   "metadata": {},
   "outputs": [
    {
     "name": "stdout",
     "output_type": "stream",
     "text": [
      "+-------+-------------------+--------------------+\n",
      "|summary|              churn|          prediction|\n",
      "+-------+-------------------+--------------------+\n",
      "|  count|               2340|                2340|\n",
      "|   mean| 0.1482905982905983|0.049145299145299144|\n",
      "| stddev|0.35546377367657656|  0.2162175232424847|\n",
      "|    min|                0.0|                 0.0|\n",
      "|    max|                1.0|                 1.0|\n",
      "+-------+-------------------+--------------------+\n",
      "\n"
     ]
    }
   ],
   "source": [
    "log_reg_summary.predictions.describe().show()"
   ]
  },
  {
   "cell_type": "markdown",
   "id": "cc812a7c",
   "metadata": {},
   "source": [
    "### Model evaluation"
   ]
  },
  {
   "cell_type": "markdown",
   "id": "68e4e5bb",
   "metadata": {},
   "source": [
    "### Accuracy & precision & recall"
   ]
  },
  {
   "cell_type": "code",
   "execution_count": 432,
   "id": "8db458c8",
   "metadata": {},
   "outputs": [],
   "source": [
    "results = log_reg.evaluate(test).predictions"
   ]
  },
  {
   "cell_type": "code",
   "execution_count": 433,
   "id": "c80d9637",
   "metadata": {},
   "outputs": [
    {
     "name": "stdout",
     "output_type": "stream",
     "text": [
      "+--------------------+-----+--------------------+--------------------+----------+\n",
      "|            features|churn|       rawPrediction|         probability|prediction|\n",
      "+--------------------+-----+--------------------+--------------------+----------+\n",
      "|[1.0,1.0,0.0,0.0,...|    0|[3.27636752575371...|[0.96360911945117...|       0.0|\n",
      "|[3.0,1.0,0.0,0.0,...|    0|[1.28775964790889...|[0.78376774495107...|       0.0|\n",
      "|[6.0,1.0,0.0,0.0,...|    0|[1.90954591690239...|[0.87096812538758...|       0.0|\n",
      "|[6.0,1.0,0.0,0.0,...|    0|[1.23094022470559...|[0.77398309321558...|       0.0|\n",
      "|[10.0,1.0,0.0,0.0...|    0|[1.78702825687788...|[0.85656254553746...|       0.0|\n",
      "|[10.0,1.0,0.0,0.4...|    0|[2.00309865710841...|[0.88112203340335...|       0.0|\n",
      "|[12.0,0.0,0.0,0.0...|    0|[0.08224573535645...|[0.52054985126052...|       0.0|\n",
      "|[13.0,1.0,1.0,3.2...|    0|[0.45449393768817...|[0.61170717511600...|       0.0|\n",
      "|[13.0,1.0,1.0,3.4...|    0|[2.50972559709356...|[0.92482081425520...|       0.0|\n",
      "|[15.0,1.0,0.0,0.0...|    0|[2.91270211958120...|[0.94847078794834...|       0.0|\n",
      "|[16.0,0.0,0.0,0.0...|    0|[2.46036071720491...|[0.92131581627006...|       0.0|\n",
      "|[20.0,1.0,0.0,0.3...|    0|[2.70479720864310...|[0.93730912348898...|       0.0|\n",
      "|[20.0,1.0,1.0,1.9...|    0|[4.53042519256051...|[0.98933879297648...|       0.0|\n",
      "|[21.0,1.0,0.0,0.0...|    0|[1.53309113273893...|[0.82245813373705...|       0.0|\n",
      "|[22.0,1.0,0.0,0.0...|    0|[4.07061755926844...|[0.98321954398586...|       0.0|\n",
      "|[22.0,1.0,0.0,0.0...|    0|[2.35276494329407...|[0.91315374919607...|       0.0|\n",
      "|[23.0,1.0,0.0,0.0...|    1|[3.75145007949216...|[0.97705516101156...|       0.0|\n",
      "|[23.0,1.0,0.0,0.0...|    0|[-0.4729357375704...|[0.38392162968769...|       1.0|\n",
      "|[24.0,1.0,0.0,0.0...|    0|[2.37876629782290...|[0.91519373053756...|       0.0|\n",
      "|[24.0,1.0,0.0,0.0...|    1|[0.84636503107165...|[0.69980406930396...|       0.0|\n",
      "+--------------------+-----+--------------------+--------------------+----------+\n",
      "only showing top 20 rows\n",
      "\n"
     ]
    }
   ],
   "source": [
    "results.show()"
   ]
  },
  {
   "cell_type": "code",
   "execution_count": 434,
   "id": "16bfc3ea",
   "metadata": {},
   "outputs": [
    {
     "name": "stdout",
     "output_type": "stream",
     "text": [
      "+-----+----------+\n",
      "|churn|prediction|\n",
      "+-----+----------+\n",
      "|    0|       0.0|\n",
      "|    0|       0.0|\n",
      "|    0|       0.0|\n",
      "|    0|       0.0|\n",
      "|    0|       0.0|\n",
      "|    0|       0.0|\n",
      "|    0|       0.0|\n",
      "|    0|       0.0|\n",
      "|    0|       0.0|\n",
      "|    0|       0.0|\n",
      "+-----+----------+\n",
      "only showing top 10 rows\n",
      "\n"
     ]
    }
   ],
   "source": [
    "results.select(['churn', 'prediction']).show(10)"
   ]
  },
  {
   "cell_type": "markdown",
   "id": "0559488b",
   "metadata": {},
   "source": [
    "### Computing model accuracy & precision & recall"
   ]
  },
  {
   "cell_type": "code",
   "execution_count": 444,
   "id": "baa308d4",
   "metadata": {},
   "outputs": [],
   "source": [
    "true_pos = results[(results.churn ==1) & (results.prediction ==1)].count()\n",
    "true_neg = results[(results.churn ==0) & (results.prediction ==0)].count()\n",
    "false_pos = results[(results.churn ==0) & (results.prediction ==1)].count()\n",
    "false_neg = results[(results.churn ==1) & (results.prediction ==0)].count()"
   ]
  },
  {
   "cell_type": "markdown",
   "id": "f260c32f",
   "metadata": {},
   "source": [
    "**Accuracy**"
   ]
  },
  {
   "cell_type": "code",
   "execution_count": 445,
   "id": "6a452599",
   "metadata": {},
   "outputs": [],
   "source": [
    "accuracy = float((true_pos + true_neg) / results.count())"
   ]
  },
  {
   "cell_type": "code",
   "execution_count": 446,
   "id": "8f7582b2",
   "metadata": {},
   "outputs": [
    {
     "name": "stdout",
     "output_type": "stream",
     "text": [
      "0.8741188318227593\n"
     ]
    }
   ],
   "source": [
    "print(accuracy)"
   ]
  },
  {
   "cell_type": "markdown",
   "id": "182c5d24",
   "metadata": {},
   "source": [
    "**Precision**"
   ]
  },
  {
   "cell_type": "code",
   "execution_count": 447,
   "id": "43ae9043",
   "metadata": {},
   "outputs": [],
   "source": [
    "precision = float(true_pos / (true_pos + false_pos))"
   ]
  },
  {
   "cell_type": "code",
   "execution_count": 448,
   "id": "9820e3f5",
   "metadata": {},
   "outputs": [
    {
     "name": "stdout",
     "output_type": "stream",
     "text": [
      "0.6037735849056604\n"
     ]
    }
   ],
   "source": [
    "print(precision)"
   ]
  },
  {
   "cell_type": "markdown",
   "id": "64b843f8",
   "metadata": {},
   "source": [
    "**Recall**"
   ]
  },
  {
   "cell_type": "code",
   "execution_count": 449,
   "id": "d7bd0579",
   "metadata": {},
   "outputs": [],
   "source": [
    "recall = float(true_pos / (true_pos + false_neg))"
   ]
  },
  {
   "cell_type": "code",
   "execution_count": 450,
   "id": "6c751eed",
   "metadata": {},
   "outputs": [
    {
     "name": "stdout",
     "output_type": "stream",
     "text": [
      "0.23529411764705882\n"
     ]
    }
   ],
   "source": [
    "print(recall)"
   ]
  },
  {
   "cell_type": "markdown",
   "id": "190b460b",
   "metadata": {},
   "source": [
    "**F1 score**"
   ]
  },
  {
   "cell_type": "code",
   "execution_count": 452,
   "id": "4ff552bd",
   "metadata": {},
   "outputs": [],
   "source": [
    "f1_score = 2*((precision*recall)/(precision + recall))"
   ]
  },
  {
   "cell_type": "code",
   "execution_count": 453,
   "id": "fe901f72",
   "metadata": {},
   "outputs": [
    {
     "data": {
      "text/plain": [
       "0.33862433862433866"
      ]
     },
     "execution_count": 453,
     "metadata": {},
     "output_type": "execute_result"
    }
   ],
   "source": [
    "f1_score"
   ]
  },
  {
   "cell_type": "markdown",
   "id": "7822b337",
   "metadata": {},
   "source": [
    "## Conclusion"
   ]
  },
  {
   "cell_type": "markdown",
   "id": "c6df96ff",
   "metadata": {},
   "source": [
    "**I ended up with a 87% accuracy of the model. On the other hand, the recall of 0.23 is a good one in this case because recall depends on the context and the desired outcomes of the model. If you have a highly imbalanced dataset where the positive cases are rare, a recall of 0.23 might be considered good because it is still able to identify a significant portion of the positive cases.\n",
    "I had 2850 negative instances and only 483 positive. Also, the same is valid for F1 score.**"
   ]
  },
  {
   "cell_type": "code",
   "execution_count": null,
   "id": "753fad12",
   "metadata": {},
   "outputs": [],
   "source": []
  }
 ],
 "metadata": {
  "kernelspec": {
   "display_name": "Python 3 (ipykernel)",
   "language": "python",
   "name": "python3"
  },
  "language_info": {
   "codemirror_mode": {
    "name": "ipython",
    "version": 3
   },
   "file_extension": ".py",
   "mimetype": "text/x-python",
   "name": "python",
   "nbconvert_exporter": "python",
   "pygments_lexer": "ipython3",
   "version": "3.9.12"
  }
 },
 "nbformat": 4,
 "nbformat_minor": 5
}
